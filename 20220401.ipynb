{
  "nbformat": 4,
  "nbformat_minor": 0,
  "metadata": {
    "colab": {
      "name": "20220401.ipynb",
      "provenance": [],
      "collapsed_sections": [],
      "authorship_tag": "ABX9TyPyVX0JUPUPYbQHfm4TDWrE",
      "include_colab_link": true
    },
    "kernelspec": {
      "name": "python3",
      "display_name": "Python 3"
    },
    "language_info": {
      "name": "python"
    },
    "accelerator": "GPU"
  },
  "cells": [
    {
      "cell_type": "markdown",
      "metadata": {
        "id": "view-in-github",
        "colab_type": "text"
      },
      "source": [
        "<a href=\"https://colab.research.google.com/github/jellyontherock/machine-learning/blob/master/20220401.ipynb\" target=\"_parent\"><img src=\"https://colab.research.google.com/assets/colab-badge.svg\" alt=\"Open In Colab\"/></a>"
      ]
    },
    {
      "cell_type": "code",
      "execution_count": null,
      "metadata": {
        "id": "WGpmVtAm6y3o"
      },
      "outputs": [],
      "source": [
        "# 데이터의 형태를 확인\n",
        "# 모델을 만들어 학습시켜 보세요.\n",
        "# tf.keras.fashion_mnist\n",
        "\n",
        "'''\n",
        "Fashion MNIST 데이터셋 불러오기\n",
        "\n",
        "Fashion MNIST 데이터셋 살펴보기\n",
        "\n",
        "Fashion MNIST 데이터셋 전처리하기\n",
        "\n",
        "모델 구성하기\n",
        "\n",
        "모델 컴파일하기\n",
        "\n",
        "모델 훈련하기\n",
        "\n",
        "모델의 정확도 평가하기\n",
        "\n",
        "예측하기\n",
        "\n",
        "뉴런의 개수의 영향\n",
        "\n",
        "콜백 (Callback) 사용하기\n",
        "\n",
        "Fashion MNIST 이미지 인식 예제\n",
        "'''"
      ]
    },
    {
      "cell_type": "code",
      "source": [
        "import tensorflow as tf\n",
        "import numpy as np"
      ],
      "metadata": {
        "id": "JDpJiVh97SKW"
      },
      "execution_count": null,
      "outputs": []
    },
    {
      "cell_type": "code",
      "source": [
        "# 1. Fashion MNIST 데이터셋 불러오기\n",
        "fashion_mnist = tf.keras.datasets.fashion_mnist\n",
        "(train_images, train_labels), (test_images, test_labels) = fashion_mnist.load_data()"
      ],
      "metadata": {
        "colab": {
          "base_uri": "https://localhost:8080/"
        },
        "id": "l6dUIYx07SmQ",
        "outputId": "5e769079-ff2b-45e0-b4b0-d610d03e5fe5"
      },
      "execution_count": null,
      "outputs": [
        {
          "output_type": "stream",
          "name": "stdout",
          "text": [
            "Downloading data from https://storage.googleapis.com/tensorflow/tf-keras-datasets/train-labels-idx1-ubyte.gz\n",
            "32768/29515 [=================================] - 0s 0us/step\n",
            "40960/29515 [=========================================] - 0s 0us/step\n",
            "Downloading data from https://storage.googleapis.com/tensorflow/tf-keras-datasets/train-images-idx3-ubyte.gz\n",
            "26427392/26421880 [==============================] - 0s 0us/step\n",
            "26435584/26421880 [==============================] - 0s 0us/step\n",
            "Downloading data from https://storage.googleapis.com/tensorflow/tf-keras-datasets/t10k-labels-idx1-ubyte.gz\n",
            "16384/5148 [===============================================================================================] - 0s 0us/step\n",
            "Downloading data from https://storage.googleapis.com/tensorflow/tf-keras-datasets/t10k-images-idx3-ubyte.gz\n",
            "4423680/4422102 [==============================] - 0s 0us/step\n",
            "4431872/4422102 [==============================] - 0s 0us/step\n"
          ]
        }
      ]
    },
    {
      "cell_type": "code",
      "source": [
        "print(train_images[0])\n",
        "print(train_labels[0])"
      ],
      "metadata": {
        "colab": {
          "base_uri": "https://localhost:8080/"
        },
        "id": "zQp0-EqH7jIT",
        "outputId": "e5fd4717-33b8-4fec-f496-d9de1a20e0f3"
      },
      "execution_count": null,
      "outputs": [
        {
          "output_type": "stream",
          "name": "stdout",
          "text": [
            "[[  0   0   0   0   0   0   0   0   0   0   0   0   0   0   0   0   0   0\n",
            "    0   0   0   0   0   0   0   0   0   0]\n",
            " [  0   0   0   0   0   0   0   0   0   0   0   0   0   0   0   0   0   0\n",
            "    0   0   0   0   0   0   0   0   0   0]\n",
            " [  0   0   0   0   0   0   0   0   0   0   0   0   0   0   0   0   0   0\n",
            "    0   0   0   0   0   0   0   0   0   0]\n",
            " [  0   0   0   0   0   0   0   0   0   0   0   0   1   0   0  13  73   0\n",
            "    0   1   4   0   0   0   0   1   1   0]\n",
            " [  0   0   0   0   0   0   0   0   0   0   0   0   3   0  36 136 127  62\n",
            "   54   0   0   0   1   3   4   0   0   3]\n",
            " [  0   0   0   0   0   0   0   0   0   0   0   0   6   0 102 204 176 134\n",
            "  144 123  23   0   0   0   0  12  10   0]\n",
            " [  0   0   0   0   0   0   0   0   0   0   0   0   0   0 155 236 207 178\n",
            "  107 156 161 109  64  23  77 130  72  15]\n",
            " [  0   0   0   0   0   0   0   0   0   0   0   1   0  69 207 223 218 216\n",
            "  216 163 127 121 122 146 141  88 172  66]\n",
            " [  0   0   0   0   0   0   0   0   0   1   1   1   0 200 232 232 233 229\n",
            "  223 223 215 213 164 127 123 196 229   0]\n",
            " [  0   0   0   0   0   0   0   0   0   0   0   0   0 183 225 216 223 228\n",
            "  235 227 224 222 224 221 223 245 173   0]\n",
            " [  0   0   0   0   0   0   0   0   0   0   0   0   0 193 228 218 213 198\n",
            "  180 212 210 211 213 223 220 243 202   0]\n",
            " [  0   0   0   0   0   0   0   0   0   1   3   0  12 219 220 212 218 192\n",
            "  169 227 208 218 224 212 226 197 209  52]\n",
            " [  0   0   0   0   0   0   0   0   0   0   6   0  99 244 222 220 218 203\n",
            "  198 221 215 213 222 220 245 119 167  56]\n",
            " [  0   0   0   0   0   0   0   0   0   4   0   0  55 236 228 230 228 240\n",
            "  232 213 218 223 234 217 217 209  92   0]\n",
            " [  0   0   1   4   6   7   2   0   0   0   0   0 237 226 217 223 222 219\n",
            "  222 221 216 223 229 215 218 255  77   0]\n",
            " [  0   3   0   0   0   0   0   0   0  62 145 204 228 207 213 221 218 208\n",
            "  211 218 224 223 219 215 224 244 159   0]\n",
            " [  0   0   0   0  18  44  82 107 189 228 220 222 217 226 200 205 211 230\n",
            "  224 234 176 188 250 248 233 238 215   0]\n",
            " [  0  57 187 208 224 221 224 208 204 214 208 209 200 159 245 193 206 223\n",
            "  255 255 221 234 221 211 220 232 246   0]\n",
            " [  3 202 228 224 221 211 211 214 205 205 205 220 240  80 150 255 229 221\n",
            "  188 154 191 210 204 209 222 228 225   0]\n",
            " [ 98 233 198 210 222 229 229 234 249 220 194 215 217 241  65  73 106 117\n",
            "  168 219 221 215 217 223 223 224 229  29]\n",
            " [ 75 204 212 204 193 205 211 225 216 185 197 206 198 213 240 195 227 245\n",
            "  239 223 218 212 209 222 220 221 230  67]\n",
            " [ 48 203 183 194 213 197 185 190 194 192 202 214 219 221 220 236 225 216\n",
            "  199 206 186 181 177 172 181 205 206 115]\n",
            " [  0 122 219 193 179 171 183 196 204 210 213 207 211 210 200 196 194 191\n",
            "  195 191 198 192 176 156 167 177 210  92]\n",
            " [  0   0  74 189 212 191 175 172 175 181 185 188 189 188 193 198 204 209\n",
            "  210 210 211 188 188 194 192 216 170   0]\n",
            " [  2   0   0   0  66 200 222 237 239 242 246 243 244 221 220 193 191 179\n",
            "  182 182 181 176 166 168  99  58   0   0]\n",
            " [  0   0   0   0   0   0   0  40  61  44  72  41  35   0   0   0   0   0\n",
            "    0   0   0   0   0   0   0   0   0   0]\n",
            " [  0   0   0   0   0   0   0   0   0   0   0   0   0   0   0   0   0   0\n",
            "    0   0   0   0   0   0   0   0   0   0]\n",
            " [  0   0   0   0   0   0   0   0   0   0   0   0   0   0   0   0   0   0\n",
            "    0   0   0   0   0   0   0   0   0   0]]\n",
            "9\n"
          ]
        }
      ]
    },
    {
      "cell_type": "code",
      "source": [
        "'''\n",
        "train_images는 0에서 255 사이의 값을 갖는 28x28 크기의 NumPy 어레이를 갖는 어레이이고,\n",
        "\n",
        "train_labels는 0에서 9까지의 정수 값을 갖는 어레이입니다.\n",
        "\n",
        "0에서 9까지의 정수 값은 이미지(옷)의 클래스를 나타내는 레이블입니다. 각각의 레이블과 클래스는 아래와 같습니다.\n",
        "\n",
        "0 : T-shirt/top\n",
        "1 : Trouser\n",
        "2 : Pullover\n",
        "3 : Dress\n",
        "4 : Coat\n",
        "5 : Sandal\n",
        "6 : Shirt\n",
        "7 : Sneaker\n",
        "8 : Bag\n",
        "9 : Ankel boot\n",
        "'''"
      ],
      "metadata": {
        "id": "Z7Fr2yug7lj4"
      },
      "execution_count": null,
      "outputs": []
    },
    {
      "cell_type": "code",
      "source": [
        "print(train_images.shape) # 28*28, 60,000개의 어레이\n",
        "print(train_labels.shape)\n",
        "print(test_images.shape) #28*28 10,000개의 어레이\n",
        "print(test_labels.shape)"
      ],
      "metadata": {
        "colab": {
          "base_uri": "https://localhost:8080/"
        },
        "id": "zz6mkpv673Bj",
        "outputId": "7a0c78bf-df4f-46ef-cddd-bff139dee3ca"
      },
      "execution_count": null,
      "outputs": [
        {
          "output_type": "stream",
          "name": "stdout",
          "text": [
            "(60000, 28, 28)\n",
            "(60000,)\n",
            "(10000, 28, 28)\n",
            "(10000,)\n"
          ]
        }
      ]
    },
    {
      "cell_type": "code",
      "source": [
        "# 2. 데이터 전처리\n",
        "train_images, test_images = train_images / 255.0, test_images / 255.0"
      ],
      "metadata": {
        "id": "DCoYASPH76CM"
      },
      "execution_count": null,
      "outputs": []
    },
    {
      "cell_type": "code",
      "source": [
        "#0에서 255 사이의 값을 갖는 훈련/테스트 데이터들을 0.0~1.0 사이의 값을 갖도록 변환합니다."
      ],
      "metadata": {
        "id": "ewHa3Pno8IZe"
      },
      "execution_count": null,
      "outputs": []
    },
    {
      "cell_type": "code",
      "source": [
        "# 3. 모델 구성\n",
        "model = tf.keras.models.Sequential([\n",
        "    tf.keras.layers.Flatten(input_shape=(28, 28)),\n",
        "    tf.keras.layers.Dense(512, activation='relu'),\n",
        "    tf.keras.layers.Dense(10, activation='softmax')\n",
        "])\n",
        "\n",
        "'''\n",
        "\n",
        "MNIST 인식 예제와 같이 Sequential() 클래스를 이용해서 신경망 모델을 순서대로 구성합니다.\n",
        "\n",
        "tf.keras.layers.Flatten 클래스는 아래 그림과 같이 입력 데이터를 1차원으로 변환합니다.\n",
        "\n",
        "\n",
        "'''"
      ],
      "metadata": {
        "id": "KjUUDW_l8Kx9"
      },
      "execution_count": null,
      "outputs": []
    },
    {
      "cell_type": "markdown",
      "source": [
        "![fashion_MNIST_02.png](data:image/png;base64,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)"
      ],
      "metadata": {
        "id": "Q3hWLWWt8Vn_"
      }
    },
    {
      "cell_type": "code",
      "source": [
        "# 4. 모델 컴파일\n",
        "model.compile(optimizer='adam',\n",
        "              loss='sparse_categorical_crossentropy',\n",
        "              metrics=['accuracy'])"
      ],
      "metadata": {
        "id": "V9yXm9Xa8NLx"
      },
      "execution_count": null,
      "outputs": []
    },
    {
      "cell_type": "markdown",
      "source": [
        "손실 함수 (loss function)는 훈련 과정에서 모델의 오차를 측정하는데 사용됩니다.\n",
        "\n",
        "옵티마이저 (optimizer)는 데이터와 손실 함수를 바탕으로 모델 (의 웨이트와 바이어스)을 업데이트하는 방식을 말합니다.\n",
        "\n",
        "지표 (metrics)는 훈련과 테스트 단계를 평가하기 위해 사용됩니다.\n",
        "\n",
        "‘accuracy’로 설정하면, 이미지를 올바르게 분류한 비율로 모델을 평가합니다.\n",
        "\n"
      ],
      "metadata": {
        "id": "TaO7ZMqV8pIK"
      }
    },
    {
      "cell_type": "code",
      "source": [
        "# 5. 모델 훈련\n",
        "model.fit(train_images, train_labels, epochs=5)"
      ],
      "metadata": {
        "colab": {
          "base_uri": "https://localhost:8080/"
        },
        "id": "li3xwrw58gxl",
        "outputId": "31d53c78-a329-4579-d87c-04fe6841a060"
      },
      "execution_count": null,
      "outputs": [
        {
          "output_type": "stream",
          "name": "stdout",
          "text": [
            "Epoch 1/5\n",
            "1875/1875 [==============================] - 11s 5ms/step - loss: 0.4736 - accuracy: 0.8308\n",
            "Epoch 2/5\n",
            "1875/1875 [==============================] - 10s 5ms/step - loss: 0.3615 - accuracy: 0.8675\n",
            "Epoch 3/5\n",
            "1875/1875 [==============================] - 10s 5ms/step - loss: 0.3209 - accuracy: 0.8822\n",
            "Epoch 4/5\n",
            "1875/1875 [==============================] - 9s 5ms/step - loss: 0.2992 - accuracy: 0.8892\n",
            "Epoch 5/5\n",
            "1875/1875 [==============================] - 10s 5ms/step - loss: 0.2801 - accuracy: 0.8960\n"
          ]
        },
        {
          "output_type": "execute_result",
          "data": {
            "text/plain": [
              "<keras.callbacks.History at 0x7ff30abc3750>"
            ]
          },
          "metadata": {},
          "execution_count": 9
        }
      ]
    },
    {
      "cell_type": "code",
      "source": [
        "# 6. 정확도 평가하기\n",
        "loss, accuracy = model.evaluate(test_images, test_labels)\n",
        "print(loss, accuracy)"
      ],
      "metadata": {
        "colab": {
          "base_uri": "https://localhost:8080/"
        },
        "id": "RlPfJ-g88u0C",
        "outputId": "b39a365f-e634-4902-fe47-7eee950e21dc"
      },
      "execution_count": null,
      "outputs": [
        {
          "output_type": "stream",
          "name": "stdout",
          "text": [
            "313/313 [==============================] - 1s 3ms/step - loss: 0.3581 - accuracy: 0.8701\n",
            "0.35812684893608093 0.8701000213623047\n"
          ]
        }
      ]
    },
    {
      "cell_type": "markdown",
      "source": [
        "5회의 epoch 학습을 통해 10,000개의 테스트 이미지를 87% 정확도로 분류할 수 있음을 의미합니다. "
      ],
      "metadata": {
        "id": "HMRfwA2c9Gav"
      }
    },
    {
      "cell_type": "code",
      "source": [
        "# 7. 예측하기\n",
        "predictions = model.predict(test_images)\n",
        "print(predictions[0])\n",
        "print(np.argmax(predictions[0]))"
      ],
      "metadata": {
        "colab": {
          "base_uri": "https://localhost:8080/"
        },
        "id": "FbY0P-m78-EH",
        "outputId": "c9338aae-1c96-4451-fc98-178ac2b108dc"
      },
      "execution_count": null,
      "outputs": [
        {
          "output_type": "stream",
          "name": "stdout",
          "text": [
            "[1.1738395e-05 2.0718993e-07 7.3759551e-08 4.1232115e-09 6.3983532e-07\n",
            " 8.9337723e-03 1.6668919e-06 3.8819935e-02 7.5518146e-06 9.5222437e-01]\n",
            "9\n"
          ]
        }
      ]
    },
    {
      "cell_type": "markdown",
      "source": [
        "predictions는 각 test_images에 대한 신경망의 출력값을 나타내는 어레이입니다.\n",
        "\n",
        "첫번째 예측 predictions[0]을 출력해보면 10개의 값을 갖는 어레이이며, 입력 이미지 데이터가 열 개의 숫자 중 어떤 숫자일 확률을 의미합니다.\n",
        "\n",
        "np.argmax() 함수를 이용해서 가장 높은 값을 갖는 인덱스를 확인해보면 9를 출력합니다.\n",
        "**즉, 학습된 신경망은 이 이미지가 ankle boot라고 예측합니다.**"
      ],
      "metadata": {
        "id": "Uf438Vre9bTw"
      }
    },
    {
      "cell_type": "markdown",
      "source": [
        "# 뉴런의 개수의 영향\n",
        "가운데 뉴런층의 뉴런 노드의 개수를 조절하면 훈련에 어떤 영향을 미치는지 알아봅니다.\n",
        "\n",
        "아래 그림과 같이 뉴런 노드의 개수를 128, 512, 1024로 변화시키면서 세 가지 경우에 대해\n",
        "\n",
        "훈련 과정의 손실과 정확도를 확인해보겠습니다."
      ],
      "metadata": {
        "id": "AwWeFyMT99NI"
      }
    },
    {
      "cell_type": "markdown",
      "source": [
        "![fashion_MNIST_03.png](data:image/png;base64,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)"
      ],
      "metadata": {
        "id": "AXHhjntR-BHy"
      }
    },
    {
      "cell_type": "code",
      "source": [
        "# 3. 모델 구성\n",
        "model = tf.keras.models.Sequential([\n",
        "    tf.keras.layers.Flatten(input_shape=(28, 28)),\n",
        "    tf.keras.layers.Dense(128, activation='relu'),      ## CASE 1\n",
        "    # tf.keras.layers.Dense(512, activation='relu'),    ## CASE 2\n",
        "    # tf.keras.layers.Dense(1024, activation='relu'),   ## CASE 3\n",
        "    tf.keras.layers.Dense(10, activation='softmax')\n",
        "])"
      ],
      "metadata": {
        "id": "r75V9qhb9Qrf"
      },
      "execution_count": null,
      "outputs": []
    },
    {
      "cell_type": "code",
      "source": [
        "'''\n",
        "아까 내용과 비교\n",
        "\n",
        "# 3. 모델 구성\n",
        "model = tf.keras.models.Sequential([\n",
        "    tf.keras.layers.Flatten(input_shape=(28, 28)),\n",
        "    tf.keras.layers.Dense(512, activation='relu'),\n",
        "    tf.keras.layers.Dense(10, activation='softmax')\n",
        "])\n",
        "\n",
        "case 1, 2, 3 에 따른 차이 비교 (128, 512, 1024가 바로 뉴런 노드의 개수)\n",
        "'''"
      ],
      "metadata": {
        "id": "Ue_aMo-N-RlE"
      },
      "execution_count": null,
      "outputs": []
    },
    {
      "cell_type": "markdown",
      "source": [
        "![fashion_MNIST_04.png](data:image/png;base64,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)"
      ],
      "metadata": {
        "id": "8RMbTVSc-pYB"
      }
    },
    {
      "cell_type": "markdown",
      "source": [
        "뉴런 노드의 **개수가 증가하면 훈련 과정에서 손실 값이 감소하고 테스트 정확도는 증가하는 경향**이 있습니다.\n",
        "\n",
        "하지만 계산과 최적화를 필요로 하는 파라미터의 숫자가 증가하기 때문에 ** 훈련에 걸리는 시간은 증가** 합니다.\n",
        "\n",
        "512개와 1024개에서 손실과 정확도의 증가가 크지 않은 이유는 Fashion MNIST 분류 문제가 비교적 간단한 문제이기 때문입니다.\n",
        "\n",
        "따라서 **문제에 맞게 적절한 개수의 뉴런을 사용하면서 짧은 훈련 시간 동안 높은 정확도를 얻는 것이 좋습니다.**\n",
        "\n"
      ],
      "metadata": {
        "id": "a63RywBG-snX"
      }
    },
    {
      "cell_type": "code",
      "source": [
        ""
      ],
      "metadata": {
        "id": "34L6rbj2-ZgL"
      },
      "execution_count": null,
      "outputs": []
    },
    {
      "cell_type": "markdown",
      "source": [
        "# 콜백 (Callback) 사용하기\n",
        "tf.keras.callbacks 모듈의 Callback 클래스를 사용하면,\n",
        "\n",
        "훈련 중에 손실 값이 특정 기준 미만이 되었을 때 훈련을 중단할 수 있습니다."
      ],
      "metadata": {
        "id": "t3--mc2Y-9tf"
      }
    },
    {
      "cell_type": "code",
      "source": [
        "'''\n",
        "import tensorflow as tf\n",
        "\n",
        "class myCallback(tf.keras.callbacks.Callback):\n",
        "  def on_epoch_end(self, epoch, logs={}):\n",
        "      if logs.get('loss') < 0.3:\n",
        "          print('\\n훈련을 중지합니다.')\n",
        "          self.model.stop_training = True\n",
        "\n",
        "callbacks = myCallback()\n",
        "\n",
        "# 1. Fashion MNIST 데이터셋 임포트\n",
        "fashion_mnist = tf.keras.datasets.fashion_mnist\n",
        "(train_images, train_labels), (test_images, test_labels) = fashion_mnist.load_data()\n",
        "\n",
        "# 2. 데이터 전처리\n",
        "train_images, test_images = train_images / 255.0, test_images / 255.0\n",
        "\n",
        "# 3. 모델 구성\n",
        "model = tf.keras.models.Sequential([\n",
        "  tf.keras.layers.Flatten(input_shape=(28, 28)),\n",
        "  tf.keras.layers.Dense(512, activation='relu'),\n",
        "  tf.keras.layers.Dense(10, activation='softmax')\n",
        "])\n",
        "\n",
        "# 4. 모델 컴파일\n",
        "model.compile(optimizer='adam',\n",
        "          loss='sparse_categorical_crossentropy',\n",
        "          metrics=['accuracy'])\n",
        "\n",
        "# 5. 모델 훈련\n",
        "model.fit(train_images, train_labels, epochs=5, callbacks=[callbacks])\n",
        "'''"
      ],
      "metadata": {
        "id": "b0I7i72A-_J6"
      },
      "execution_count": null,
      "outputs": []
    },
    {
      "cell_type": "code",
      "source": [
        "class myCallback(tf.keras.callbacks.Callback):\n",
        "  def on_epoch_end(self, epoch, logs={}):\n",
        "      if logs.get('loss') < 0.3:\n",
        "          print('\\n훈련을 중지합니다.')\n",
        "          self.model.stop_training = True\n",
        "\n",
        "#손실 값 (loss)이 0.3 미만이라면 훈련을 중단"
      ],
      "metadata": {
        "id": "ULXlDBXO_K_V"
      },
      "execution_count": null,
      "outputs": []
    },
    {
      "cell_type": "code",
      "source": [
        "# 전체 예제\n",
        "\n",
        "import tensorflow as tf \n",
        "import numpy as np\n",
        "import matplotlib.pyplot as plt\n",
        "from tensorflow.keras.datasets import mnist\n",
        "from tensorflow.python.keras.utils.vis_utils import plot_model\n",
        "\n",
        "# 1. Fashion MNIST 데이터셋 임포트\n",
        "fashion_mnist = tf.keras.datasets.fashion_mnist\n",
        "(train_images, train_labels), (test_images, test_labels) = fashion_mnist.load_data()\n",
        "\n",
        "from sklearn.model_selection import StratifiedShuffleSplit    \n",
        "split = StratifiedShuffleSplit(n_splits=1, test_size=0.2, random_state=1004)\n",
        "\n",
        "for train, cv in split.split(train_images,train_labels):\n",
        "  X_train=train_images[train]\n",
        "  X_cv=train_images[cv]\n",
        "  y_train=train_labels[train]\n",
        "  y_cv=train_labels[cv]\n",
        "  \n",
        "print(sum(y_train==1)==sum(y_cv==1)*4)\n",
        "\n",
        "#https://reminder-by-kwan.tistory.com/118\n",
        "\n",
        "# 2. 데이터 전처리\n",
        "train_images, test_images = train_images / 255.0, test_images / 255.0\n",
        "\n",
        "\n",
        "# 3. 모델 구성\n",
        "model = tf.keras.models.Sequential([\n",
        "    tf.keras.layers.Flatten(input_shape=(28, 28)),\n",
        "    tf.keras.layers.Dense(512, activation='relu'),\n",
        "    tf.keras.layers.Dense(10, activation='softmax')\n",
        "])\n",
        "\n",
        "\n",
        "# 4. 모델 컴파일\n",
        "model.compile(optimizer='adam',\n",
        "              loss='sparse_categorical_crossentropy',\n",
        "              metrics=['accuracy'],\n",
        "              )\n",
        "\n",
        "\n",
        "# 5. 모델 훈련\n",
        "history = model.fit(train_images, train_labels, epochs=5, validation_data=(X_cv, y_cv))\n",
        "\n",
        "\n",
        "# 6. 정확도 평가하기\n",
        "loss, accuracy = model.evaluate(test_images, test_labels)\n",
        "print(loss, accuracy)\n",
        "\n",
        "\n",
        "# 7. 예측하기\n",
        "predictions = model.predict(test_images)\n",
        "print(predictions[0]) \n",
        "print(np.argmax(predictions[0]))"
      ],
      "metadata": {
        "colab": {
          "base_uri": "https://localhost:8080/"
        },
        "id": "-1r1HtPt_SaO",
        "outputId": "a89bd660-3147-40dd-ed98-8e26eb77c73c"
      },
      "execution_count": null,
      "outputs": [
        {
          "output_type": "stream",
          "name": "stdout",
          "text": [
            "True\n",
            "Epoch 1/5\n",
            "1875/1875 [==============================] - 10s 5ms/step - loss: 0.4723 - accuracy: 0.8300 - val_loss: 80.9195 - val_accuracy: 0.8230\n",
            "Epoch 2/5\n",
            "1875/1875 [==============================] - 6s 3ms/step - loss: 0.3600 - accuracy: 0.8679 - val_loss: 41.2880 - val_accuracy: 0.8791\n",
            "Epoch 3/5\n",
            "1875/1875 [==============================] - 5s 3ms/step - loss: 0.3228 - accuracy: 0.8809 - val_loss: 42.1629 - val_accuracy: 0.8782\n",
            "Epoch 4/5\n",
            "1875/1875 [==============================] - 5s 2ms/step - loss: 0.2999 - accuracy: 0.8897 - val_loss: 40.1423 - val_accuracy: 0.8819\n",
            "Epoch 5/5\n",
            "1875/1875 [==============================] - 5s 2ms/step - loss: 0.2813 - accuracy: 0.8944 - val_loss: 27.8801 - val_accuracy: 0.8996\n",
            "313/313 [==============================] - 1s 2ms/step - loss: 0.3313 - accuracy: 0.8787\n",
            "0.3313341736793518 0.8787000179290771\n",
            "[2.0210135e-07 2.7443754e-08 3.7488704e-08 2.8766058e-09 6.6376493e-10\n",
            " 2.7019772e-04 7.7428746e-07 2.2574697e-02 4.3523219e-06 9.7714978e-01]\n",
            "9\n"
          ]
        }
      ]
    },
    {
      "cell_type": "code",
      "source": [
        "plt.imshow(train_images[0])"
      ],
      "metadata": {
        "colab": {
          "base_uri": "https://localhost:8080/",
          "height": 283
        },
        "id": "xrIwlhy2_W-y",
        "outputId": "7696460d-fc98-4c72-c926-2424e8f8feb1"
      },
      "execution_count": null,
      "outputs": [
        {
          "output_type": "execute_result",
          "data": {
            "text/plain": [
              "<matplotlib.image.AxesImage at 0x7ff306c884d0>"
            ]
          },
          "metadata": {},
          "execution_count": 21
        },
        {
          "output_type": "display_data",
          "data": {
            "text/plain": [
              "<Figure size 432x288 with 1 Axes>"
            ],
            "image/png": "[encoded data removed]"
          },
          "metadata": {
            "needs_background": "light"
          }
        }
      ]
    },
    {
      "cell_type": "code",
      "source": [
        "from sklearn.metrics import confusion_matrix"
      ],
      "metadata": {
        "id": "1k3PKIB-A6Wh"
      },
      "execution_count": null,
      "outputs": []
    },
    {
      "cell_type": "code",
      "source": [
        "p_test = model.predict(test_images).argmax(axis = 1)"
      ],
      "metadata": {
        "id": "nJcItIL2A7it"
      },
      "execution_count": null,
      "outputs": []
    },
    {
      "cell_type": "code",
      "source": [
        "miss_id = np.where(p_test != test_labels)[0]"
      ],
      "metadata": {
        "id": "3-3Rp2l8BRU7"
      },
      "execution_count": null,
      "outputs": []
    },
    {
      "cell_type": "code",
      "source": [
        "i = np.random.choice(miss_id)\n",
        "plt.imshow(test_images[i])\n",
        "plt.title(f\"true:{test_labels[i]}, predict:{p_test[i]}\")"
      ],
      "metadata": {
        "colab": {
          "base_uri": "https://localhost:8080/",
          "height": 299
        },
        "id": "EAnxpgvsATvj",
        "outputId": "e3b8b5fe-9d9d-4eca-d847-19f63eeb8abe"
      },
      "execution_count": null,
      "outputs": [
        {
          "output_type": "execute_result",
          "data": {
            "text/plain": [
              "Text(0.5, 1.0, 'true:0, predict:8')"
            ]
          },
          "metadata": {},
          "execution_count": 33
        },
        {
          "output_type": "display_data",
          "data": {
            "text/plain": [
              "<Figure size 432x288 with 1 Axes>"
            ],
            "image/png": "[encoded data removed]"
          },
          "metadata": {
            "needs_background": "light"
          }
        }
      ]
    },
    {
      "cell_type": "code",
      "source": [
        "'''\n",
        "0 : T-shirt/top\n",
        "1 : Trouser\n",
        "2 : Pullover\n",
        "3 : Dress\n",
        "4 : Coat\n",
        "5 : Sandal\n",
        "6 : Shirt\n",
        "7 : Sneaker\n",
        "8 : Bag\n",
        "9 : Ankel boot\n",
        "\n",
        "'''"
      ],
      "metadata": {
        "id": "fJbOcEfqBd7C"
      },
      "execution_count": null,
      "outputs": []
    },
    {
      "cell_type": "code",
      "source": [
        "# 5. 모델 훈련\n",
        "history =  model.fit(train_images, train_labels, epochs=10, validation_data=(X_cv, y_cv))"
      ],
      "metadata": {
        "colab": {
          "base_uri": "https://localhost:8080/"
        },
        "id": "94RYiVMFC8UN",
        "outputId": "4e92564a-5bd5-4dbe-e3f2-19402bf034b7"
      },
      "execution_count": null,
      "outputs": [
        {
          "output_type": "stream",
          "name": "stdout",
          "text": [
            "Epoch 1/10\n",
            "1875/1875 [==============================] - 5s 3ms/step - loss: 0.2663 - accuracy: 0.9011 - val_loss: 38.4039 - val_accuracy: 0.8892\n",
            "Epoch 2/10\n",
            "1875/1875 [==============================] - 5s 3ms/step - loss: 0.2516 - accuracy: 0.9059 - val_loss: 29.8855 - val_accuracy: 0.9110\n",
            "Epoch 3/10\n",
            "1875/1875 [==============================] - 5s 2ms/step - loss: 0.2429 - accuracy: 0.9097 - val_loss: 52.4374 - val_accuracy: 0.8699\n",
            "Epoch 4/10\n",
            "1875/1875 [==============================] - 5s 2ms/step - loss: 0.2307 - accuracy: 0.9141 - val_loss: 35.1737 - val_accuracy: 0.8972\n",
            "Epoch 5/10\n",
            "1875/1875 [==============================] - 5s 2ms/step - loss: 0.2221 - accuracy: 0.9166 - val_loss: 42.7457 - val_accuracy: 0.8942\n",
            "Epoch 6/10\n",
            "1875/1875 [==============================] - 5s 3ms/step - loss: 0.2133 - accuracy: 0.9198 - val_loss: 28.2621 - val_accuracy: 0.9142\n",
            "Epoch 7/10\n",
            "1875/1875 [==============================] - 5s 3ms/step - loss: 0.2058 - accuracy: 0.9222 - val_loss: 33.6627 - val_accuracy: 0.9048\n",
            "Epoch 8/10\n",
            "1875/1875 [==============================] - 5s 3ms/step - loss: 0.1975 - accuracy: 0.9264 - val_loss: 30.0753 - val_accuracy: 0.9096\n",
            "Epoch 9/10\n",
            "1875/1875 [==============================] - 5s 3ms/step - loss: 0.1913 - accuracy: 0.9287 - val_loss: 29.9470 - val_accuracy: 0.9143\n",
            "Epoch 10/10\n",
            "1875/1875 [==============================] - 5s 3ms/step - loss: 0.1854 - accuracy: 0.9309 - val_loss: 21.3931 - val_accuracy: 0.9304\n"
          ]
        }
      ]
    },
    {
      "cell_type": "code",
      "source": [
        "p_test = model.predict(test_images).argmax(axis = 1)\n",
        "miss_id = np.where(p_test != test_labels)[0]\n"
      ],
      "metadata": {
        "id": "wrkqIS_5DAgR"
      },
      "execution_count": null,
      "outputs": []
    },
    {
      "cell_type": "code",
      "source": [
        "i = np.random.choice(miss_id)\n",
        "plt.imshow(test_images[i])\n",
        "plt.title(f\"true:{test_labels[i]}, predict:{p_test[i]}\")"
      ],
      "metadata": {
        "colab": {
          "base_uri": "https://localhost:8080/",
          "height": 299
        },
        "id": "Mn_XAsXGDJqC",
        "outputId": "3b26a282-7a2f-47bd-a456-ff44c82c3c6f"
      },
      "execution_count": null,
      "outputs": [
        {
          "output_type": "execute_result",
          "data": {
            "text/plain": [
              "Text(0.5, 1.0, 'true:0, predict:4')"
            ]
          },
          "metadata": {},
          "execution_count": 22
        },
        {
          "output_type": "display_data",
          "data": {
            "text/plain": [
              "<Figure size 432x288 with 1 Axes>"
            ],
            "image/png": "[encoded data removed]"
          },
          "metadata": {
            "needs_background": "light"
          }
        }
      ]
    },
    {
      "cell_type": "code",
      "source": [
        "'''\n",
        "0 : T-shirt/top\n",
        "1 : Trouser\n",
        "2 : Pullover\n",
        "3 : Dress\n",
        "4 : Coat\n",
        "5 : Sandal\n",
        "6 : Shirt\n",
        "7 : Sneaker\n",
        "8 : Bag\n",
        "9 : Ankel boot\n",
        "\n",
        "'''"
      ],
      "metadata": {
        "id": "_2FG91TlF4bq"
      },
      "execution_count": null,
      "outputs": []
    },
    {
      "cell_type": "code",
      "source": [
        "# 테스트 셋으로 모델 평가\n",
        "score = model.evaluate(test_images, test_labels, verbose=0)\n",
        "\n",
        "# 테스트 정확도\n",
        "print('\\n', 'Test accuracy:', score[1])"
      ],
      "metadata": {
        "colab": {
          "base_uri": "https://localhost:8080/"
        },
        "id": "_0AVGgIkGhGi",
        "outputId": "fd105152-e676-4bd9-b9b8-437add030a67"
      },
      "execution_count": null,
      "outputs": [
        {
          "output_type": "stream",
          "name": "stdout",
          "text": [
            "\n",
            " Test accuracy: 0.873199999332428\n"
          ]
        }
      ]
    },
    {
      "cell_type": "code",
      "source": [
        "model.predict(test_images)"
      ],
      "metadata": {
        "colab": {
          "base_uri": "https://localhost:8080/"
        },
        "id": "KSrw_CD8GphE",
        "outputId": "abf9899e-dc0a-4e42-f699-4599499c5829"
      },
      "execution_count": null,
      "outputs": [
        {
          "output_type": "execute_result",
          "data": {
            "text/plain": [
              "array([[4.2798732e-08, 9.9805746e-09, 7.6553066e-09, ..., 1.7399654e-02,\n",
              "        1.2029706e-09, 9.8149788e-01],\n",
              "       [3.1118500e-06, 6.9963623e-12, 9.9991608e-01, ..., 1.8926250e-14,\n",
              "        7.1719859e-11, 1.6505384e-13],\n",
              "       [1.5391382e-08, 1.0000000e+00, 7.4366025e-12, ..., 3.4211860e-24,\n",
              "        7.5415214e-15, 7.0555992e-18],\n",
              "       ...,\n",
              "       [1.5365025e-04, 3.3919079e-09, 4.3532866e-05, ..., 2.3669681e-08,\n",
              "        9.9937809e-01, 9.7571484e-10],\n",
              "       [1.1896713e-06, 9.9997973e-01, 1.1738090e-08, ..., 1.1566872e-15,\n",
              "        4.3500922e-10, 1.6302792e-11],\n",
              "       [6.7540146e-05, 1.2287469e-06, 2.6487167e-05, ..., 4.2134686e-03,\n",
              "        4.7990245e-05, 7.7098994e-05]], dtype=float32)"
            ]
          },
          "metadata": {},
          "execution_count": 48
        }
      ]
    },
    {
      "cell_type": "code",
      "source": [
        "model.summary()"
      ],
      "metadata": {
        "colab": {
          "base_uri": "https://localhost:8080/"
        },
        "id": "wme_Krn1G8jm",
        "outputId": "a44692c0-922f-4b27-df47-282e713ed684"
      },
      "execution_count": null,
      "outputs": [
        {
          "output_type": "stream",
          "name": "stdout",
          "text": [
            "Model: \"sequential_4\"\n",
            "_________________________________________________________________\n",
            " Layer (type)                Output Shape              Param #   \n",
            "=================================================================\n",
            " flatten_4 (Flatten)         (None, 784)               0         \n",
            "                                                                 \n",
            " dense_8 (Dense)             (None, 512)               401920    \n",
            "                                                                 \n",
            " dense_9 (Dense)             (None, 10)                5130      \n",
            "                                                                 \n",
            "=================================================================\n",
            "Total params: 407,050\n",
            "Trainable params: 407,050\n",
            "Non-trainable params: 0\n",
            "_________________________________________________________________\n"
          ]
        }
      ]
    },
    {
      "cell_type": "code",
      "source": [
        "import pandas as pd\n",
        "history_frame = pd.DataFrame(history.history)\n",
        "history_frame.loc[:, ['loss', 'val_loss']].plot()\n",
        "history_frame.loc[:, ['accuracy', 'val_accuracy']].plot();"
      ],
      "metadata": {
        "colab": {
          "base_uri": "https://localhost:8080/",
          "height": 513
        },
        "id": "k-ZvV6pPHI4q",
        "outputId": "60a3f016-39dd-4353-cc37-ca111b658c56"
      },
      "execution_count": null,
      "outputs": [
        {
          "output_type": "display_data",
          "data": {
            "text/plain": [
              "<Figure size 432x288 with 1 Axes>"
            ],
            "image/png": "[encoded data removed]"
          },
          "metadata": {
            "needs_background": "light"
          }
        },
        {
          "output_type": "display_data",
          "data": {
            "text/plain": [
              "<Figure size 432x288 with 1 Axes>"
            ],
            "image/png": "[encoded data removed]"
          },
          "metadata": {
            "needs_background": "light"
          }
        }
      ]
    },
    {
      "cell_type": "code",
      "source": [
        "train_images=train_images[...,np.newaxis]\n",
        "print(train_images.shape)"
      ],
      "metadata": {
        "colab": {
          "base_uri": "https://localhost:8080/"
        },
        "id": "gLCxybxfIeW4",
        "outputId": "e655c515-ebfe-4de7-9844-c8d0790bca83"
      },
      "execution_count": null,
      "outputs": [
        {
          "output_type": "stream",
          "name": "stdout",
          "text": [
            "(60000, 28, 28, 1)\n"
          ]
        }
      ]
    },
    {
      "cell_type": "code",
      "source": [
        "print(train_labels.shape)"
      ],
      "metadata": {
        "colab": {
          "base_uri": "https://localhost:8080/"
        },
        "id": "Tn8wv1pSJeC-",
        "outputId": "a9171b10-9219-4823-a7e4-7dd5b9eaee73"
      },
      "execution_count": null,
      "outputs": [
        {
          "output_type": "stream",
          "name": "stdout",
          "text": [
            "(60000,)\n"
          ]
        }
      ]
    },
    {
      "cell_type": "code",
      "source": [
        ""
      ],
      "metadata": {
        "id": "3q1KrDqOIXgt"
      },
      "execution_count": null,
      "outputs": []
    }
  ]
}